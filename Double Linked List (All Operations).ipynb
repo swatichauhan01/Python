{
 "cells": [
  {
   "cell_type": "markdown",
   "metadata": {},
   "source": [
    "# Double Linked List"
   ]
  },
  {
   "cell_type": "code",
   "execution_count": null,
   "metadata": {},
   "outputs": [],
   "source": [
    "l = [25,36,92,48,53,77]\n",
    "\n",
    "import gc"
   ]
  },
  {
   "cell_type": "code",
   "execution_count": 29,
   "metadata": {},
   "outputs": [],
   "source": [
    "class train_coach:\n",
    "    \n",
    "    previous_hook = None \n",
    "    \n",
    "    a_number = None\n",
    "    \n",
    "    next_hook = None"
   ]
  },
  {
   "cell_type": "code",
   "execution_count": 30,
   "metadata": {},
   "outputs": [],
   "source": [
    "number_of_nodes = 0 \n",
    "\n",
    "first_coach = None\n",
    "\n",
    "last_coach = None"
   ]
  },
  {
   "cell_type": "code",
   "execution_count": 31,
   "metadata": {},
   "outputs": [],
   "source": [
    "def connect_coaches(class_instance,engine):\n",
    "    \n",
    "    global number_of_nodes\n",
    "    \n",
    "    global first_coach\n",
    "    \n",
    "    global last_coach\n",
    "    \n",
    "    if engine == last_coach:\n",
    "        \n",
    "        last_coach = class_instance\n",
    "        \n",
    "        first_coach = last_coach\n",
    "    \n",
    "    else:\n",
    "        \n",
    "        class_instance.previous_hook = last_coach \n",
    "        \n",
    "        last_coach.next_hook = class_instance\n",
    "        \n",
    "        last_coach = class_instance\n",
    "        \n",
    "    number_of_nodes = number_of_nodes + 1"
   ]
  },
  {
   "cell_type": "markdown",
   "metadata": {},
   "source": [
    "# Insertion in Double Linked List"
   ]
  },
  {
   "cell_type": "code",
   "execution_count": 32,
   "metadata": {},
   "outputs": [],
   "source": [
    "def insert(loc,engine_address,value):\n",
    "    \n",
    "    global number_of_nodes\n",
    "    \n",
    "    global first_coach\n",
    "    \n",
    "    global last_coach\n",
    "    \n",
    "    if loc == number_of_nodes:\n",
    "        \n",
    "        new_coach = train_coach()\n",
    "        \n",
    "        new_coach.a_number = value\n",
    "        \n",
    "        last_coach.next_hook = new_coach\n",
    "        \n",
    "        new_coach.previous_hook = last_coach\n",
    "        \n",
    "        last_coach = new_coach\n",
    "        \n",
    "        number_of_nodes = number_of_nodes + 1\n",
    "        \n",
    "        return \n",
    "    \n",
    "    if loc < 0 or loc > number_of_nodes:\n",
    "        \n",
    "        print(\"You have asked to insert the element at an invalid location, please try again\")\n",
    "        \n",
    "        return\n",
    "    \n",
    "    if loc == 0:\n",
    "        \n",
    "        new_coach = train_coach()\n",
    "        \n",
    "        new_coach.a_number = value\n",
    "        \n",
    "        new_coach.next_hook = first_coach\n",
    "        \n",
    "        first_coach.previous_hook = new_coach\n",
    "        \n",
    "        first_coach = new_coach\n",
    "        \n",
    "        number_of_nodes = number_of_nodes + 1\n",
    "        \n",
    "        return\n",
    "    \n",
    "    if loc == 1:\n",
    "        \n",
    "        new_coach = train_coach()\n",
    "        \n",
    "        new_coach.a_number = value\n",
    "        \n",
    "        temp_address = engine_address.next_hook\n",
    "        \n",
    "        engine_address.next_hook = new_coach\n",
    "        \n",
    "        new_coach.previous_hook = engine_address\n",
    "        \n",
    "        new_coach.next_hook = temp_address\n",
    "        \n",
    "        temp_address.previous_hook = new_coach\n",
    "        \n",
    "        number_of_nodes = number_of_nodes + 1\n",
    "        \n",
    "        return \n",
    "    \n",
    "    loc = loc - 1\n",
    "    \n",
    "    insert(loc,engine_address.next_hook,value)"
   ]
  },
  {
   "cell_type": "markdown",
   "metadata": {},
   "source": [
    "# Deletion in Double Linked List"
   ]
  },
  {
   "cell_type": "code",
   "execution_count": 33,
   "metadata": {},
   "outputs": [],
   "source": [
    "def delete(loc, engine_address):\n",
    "    \n",
    "    global number_of_nodes\n",
    "    \n",
    "    global first_coach\n",
    "    \n",
    "    global last_coach\n",
    "    \n",
    "    if loc == (number_of_nodes-1):\n",
    "        \n",
    "        temp_address = last_coach.previous_hook \n",
    "        \n",
    "        last_coach.a_number = None\n",
    "        \n",
    "        last_coach = temp_address \n",
    "        \n",
    "        last_coach.next_hook = None \n",
    "        \n",
    "        gc.collect()\n",
    "        \n",
    "        number_of_nodes = number_of_nodes - 1\n",
    "        \n",
    "        return \n",
    "    \n",
    "    if loc < 0 or loc >= number_of_nodes:\n",
    "        \n",
    "        print(\"You have asked to delete the element at an invalid location , Please Try Again\")\n",
    "        \n",
    "        return \n",
    "    \n",
    "    if loc == 0:\n",
    "        \n",
    "        first_coach.a_number = None\n",
    "        \n",
    "        temp_address = first_coach.next_hook\n",
    "        \n",
    "        first_coach.next_hook = None\n",
    "        \n",
    "        first_coach = temp_address \n",
    "        \n",
    "        first_coach.previous_hook = None\n",
    "        \n",
    "        gc.collect()\n",
    "        \n",
    "        number_of_nodes = number_of_nodes - 1\n",
    "        \n",
    "        return \n",
    "    \n",
    "    if loc == 1:\n",
    "        \n",
    "        temp_address = engine_address.next_hook.next_hook\n",
    "        \n",
    "        deleted_node_address = engine_address.next_hook\n",
    "        \n",
    "        deleted_node_address.next_hook = None\n",
    "        \n",
    "        deleted_node_address.previous_hook = None \n",
    "        \n",
    "        deleted_node_address.a_number = None \n",
    "        \n",
    "        engine_address.next_hook = temp_address\n",
    "        \n",
    "        temp_address.previous_hook = engine_address \n",
    "        \n",
    "        gc.collect()\n",
    "        \n",
    "        number_of_nodes = number_of_nodes - 1\n",
    "        \n",
    "        return \n",
    "    \n",
    "    loc = loc-1 \n",
    "    \n",
    "    delete(loc, engine_address)\n",
    "        \n",
    "        \n",
    "    \n",
    "    "
   ]
  },
  {
   "cell_type": "code",
   "execution_count": 34,
   "metadata": {},
   "outputs": [],
   "source": [
    "def print_linked_list_reverse(tail_address):\n",
    "    \n",
    "    if tail_address == None:\n",
    "        \n",
    "        return\n",
    "    \n",
    "    else:\n",
    "        \n",
    "        print(tail_address.a_number)\n",
    "        \n",
    "        print_linked_list_reverse(tail_address.previous_hook)"
   ]
  },
  {
   "cell_type": "code",
   "execution_count": 35,
   "metadata": {},
   "outputs": [],
   "source": [
    "def print_linked_list(engine_address):\n",
    "    \n",
    "    if engine_address == None:\n",
    "        \n",
    "        return\n",
    "    \n",
    "    else:\n",
    "        \n",
    "        print(engine_address.a_number)\n",
    "        \n",
    "        print_linked_list(engine_address.next_hook)"
   ]
  },
  {
   "cell_type": "code",
   "execution_count": 36,
   "metadata": {},
   "outputs": [],
   "source": [
    "engine = None\n",
    "\n",
    "for number in l:\n",
    "    \n",
    "    class_instance = train_coach()\n",
    "    \n",
    "    class_instance.a_number = number\n",
    "    \n",
    "    connect_coaches(class_instance,engine)"
   ]
  },
  {
   "cell_type": "code",
   "execution_count": 37,
   "metadata": {},
   "outputs": [
    {
     "name": "stdout",
     "output_type": "stream",
     "text": [
      "25\n",
      "36\n",
      "92\n",
      "48\n",
      "53\n",
      "77\n"
     ]
    }
   ],
   "source": [
    "print_linked_list(first_coach)"
   ]
  },
  {
   "cell_type": "code",
   "execution_count": 38,
   "metadata": {},
   "outputs": [
    {
     "name": "stdout",
     "output_type": "stream",
     "text": [
      "25\n",
      "36\n",
      "92\n",
      "48\n",
      "53\n",
      "77\n"
     ]
    }
   ],
   "source": [
    "print_linked_list(first_coach)"
   ]
  },
  {
   "cell_type": "code",
   "execution_count": 39,
   "metadata": {},
   "outputs": [
    {
     "name": "stdout",
     "output_type": "stream",
     "text": [
      "77\n",
      "53\n",
      "48\n",
      "92\n",
      "36\n",
      "25\n"
     ]
    }
   ],
   "source": [
    "print_linked_list_reverse(last_coach)"
   ]
  },
  {
   "cell_type": "code",
   "execution_count": 40,
   "metadata": {},
   "outputs": [
    {
     "data": {
      "text/plain": [
       "77"
      ]
     },
     "execution_count": 40,
     "metadata": {},
     "output_type": "execute_result"
    }
   ],
   "source": [
    "last_coach.a_number"
   ]
  },
  {
   "cell_type": "code",
   "execution_count": 41,
   "metadata": {},
   "outputs": [
    {
     "data": {
      "text/plain": [
       "53"
      ]
     },
     "execution_count": 41,
     "metadata": {},
     "output_type": "execute_result"
    }
   ],
   "source": [
    "last_coach.previous_hook.a_number"
   ]
  },
  {
   "cell_type": "code",
   "execution_count": 42,
   "metadata": {},
   "outputs": [],
   "source": [
    "insert(0,first_coach,4004)"
   ]
  },
  {
   "cell_type": "code",
   "execution_count": 43,
   "metadata": {},
   "outputs": [
    {
     "name": "stdout",
     "output_type": "stream",
     "text": [
      "4004\n",
      "25\n",
      "36\n",
      "92\n",
      "48\n",
      "53\n",
      "77\n"
     ]
    }
   ],
   "source": [
    "print_linked_list(first_coach)"
   ]
  },
  {
   "cell_type": "code",
   "execution_count": 44,
   "metadata": {},
   "outputs": [],
   "source": [
    "insert(7,first_coach,2000)"
   ]
  },
  {
   "cell_type": "code",
   "execution_count": 45,
   "metadata": {},
   "outputs": [
    {
     "name": "stdout",
     "output_type": "stream",
     "text": [
      "4004\n",
      "25\n",
      "36\n",
      "92\n",
      "48\n",
      "53\n",
      "77\n",
      "2000\n"
     ]
    }
   ],
   "source": [
    "print_linked_list(first_coach)"
   ]
  },
  {
   "cell_type": "code",
   "execution_count": 46,
   "metadata": {},
   "outputs": [],
   "source": [
    "insert(3,first_coach,501)"
   ]
  },
  {
   "cell_type": "code",
   "execution_count": 47,
   "metadata": {},
   "outputs": [
    {
     "name": "stdout",
     "output_type": "stream",
     "text": [
      "4004\n",
      "25\n",
      "36\n",
      "501\n",
      "92\n",
      "48\n",
      "53\n",
      "77\n",
      "2000\n"
     ]
    }
   ],
   "source": [
    "print_linked_list(first_coach)"
   ]
  },
  {
   "cell_type": "code",
   "execution_count": 48,
   "metadata": {},
   "outputs": [
    {
     "name": "stdout",
     "output_type": "stream",
     "text": [
      "You have asked to insert the element at an invalid location, please try again\n"
     ]
    }
   ],
   "source": [
    "insert(-1,first_coach,61)"
   ]
  },
  {
   "cell_type": "code",
   "execution_count": 49,
   "metadata": {},
   "outputs": [],
   "source": [
    "delete(8,first_coach)"
   ]
  },
  {
   "cell_type": "code",
   "execution_count": 50,
   "metadata": {},
   "outputs": [
    {
     "name": "stdout",
     "output_type": "stream",
     "text": [
      "4004\n",
      "25\n",
      "36\n",
      "501\n",
      "92\n",
      "48\n",
      "53\n",
      "77\n"
     ]
    }
   ],
   "source": [
    "print_linked_list(first_coach)"
   ]
  },
  {
   "cell_type": "code",
   "execution_count": 51,
   "metadata": {},
   "outputs": [
    {
     "name": "stdout",
     "output_type": "stream",
     "text": [
      "You have asked to delete the element at an invalid location , Please Try Again\n"
     ]
    }
   ],
   "source": [
    "delete(-1, first_coach)"
   ]
  },
  {
   "cell_type": "code",
   "execution_count": null,
   "metadata": {},
   "outputs": [],
   "source": []
  }
 ],
 "metadata": {
  "kernelspec": {
   "display_name": "Python 3",
   "language": "python",
   "name": "python3"
  },
  "language_info": {
   "codemirror_mode": {
    "name": "ipython",
    "version": 3
   },
   "file_extension": ".py",
   "mimetype": "text/x-python",
   "name": "python",
   "nbconvert_exporter": "python",
   "pygments_lexer": "ipython3",
   "version": "3.7.6"
  }
 },
 "nbformat": 4,
 "nbformat_minor": 2
}
