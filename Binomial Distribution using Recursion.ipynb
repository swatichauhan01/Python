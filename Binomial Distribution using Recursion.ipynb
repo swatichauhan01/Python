{
 "cells": [
  {
   "cell_type": "markdown",
   "metadata": {},
   "source": [
    "# Solution of Assignment:\n",
    "Coding Assignment\n",
    "Suppose you are tossing a coin ‘N’ times and somebody asks you the Probability of occurrence of\n",
    "‘k’ number of desired outcomes out of 'N' tosses. You have to write a program to compute this\n",
    "Probability, P(X=k). Therefore, your program should first ask the user to input the value of ‘N’\n",
    "(should not be greater than 10) and ‘k’or you can also randomly generate the value of ‘N’ and ‘k’.\n",
    "But the condition is that now you have to create a function that will compute this Probability for\n",
    "you.\n",
    "So, you have to define a function named P_X_equals_k(N,k) which will compute the\n",
    "Probability, P(X=k) for you. This function will be having two parameters, ‘N’ (Number of Tosses)\n",
    "and ‘k’ (Number of Desired Outcomes). But, as you know that, P(X=k) is given by:\n",
    "Therefore, for the sake of simplification assume that, p=q=0.5. Furthermore, we also know that:\n",
    "\n",
    "NCk = factorial(N)/(factorial(K)*factorial(N-k))\n",
    "\n",
    "Therefore, in order to calculate NCk, you have to define another function named\n",
    "factorial(num) which will compute the factorial of all the three entities, N, k and (N-k).\n",
    "Therefore, First your program will call a function, P_X_equals_k(N,k) to compute P(X=k),\n",
    "but computing P(X=k) involves computing NCk, which further involves computing factorial of N,\n",
    "k and (N-k), therefore inside the function P_X_equals_k(N,k), this function have to call\n",
    "another function, factorial(num) which will be responsible for computing\n",
    "factorial(N), factorial(k) and factorial((N-k)). So, inside\n",
    "P_X_equals_k(N,k), you will end up calling factorial function three times and this function\n",
    "will return the factorial of different numbers. Then the function P_X_equals_k(N,k) will\n",
    "furthermore continue with computing P(X=k) inside P_X_equal_k(N,k) after you have got\n",
    "all the results of factorials of different numbers returned inside P_X_equals_k(N,k).\n",
    "Finally, after all this, P_X_equals_k(N,k) will return the result of P(X=k) further. "
   ]
  },
  {
   "cell_type": "code",
   "execution_count": 1,
   "metadata": {},
   "outputs": [],
   "source": [
    "def factorial(num):\n",
    "    if num==1:\n",
    "        return 1\n",
    "    else:\n",
    "        return num*factorial(num-1)"
   ]
  },
  {
   "cell_type": "code",
   "execution_count": 2,
   "metadata": {},
   "outputs": [],
   "source": [
    "# Calculate Probability \n",
    "\n",
    "def p_xequals_k(N,K):\n",
    "    if N <10:\n",
    "        d=N-K\n",
    "        a=factorial(N)\n",
    "        b=factorial(K)\n",
    "        c=factorial(d)\n",
    "        nck=a/(b*c)\n",
    "        prob=nck* ((0.5)**K)* ((0.5)**d)\n",
    "        \n",
    "    return prob"
   ]
  },
  {
   "cell_type": "code",
   "execution_count": 8,
   "metadata": {},
   "outputs": [
    {
     "name": "stdout",
     "output_type": "stream",
     "text": [
      "enter the number of toses: 5\n",
      "Enter the number of desired outcome: 3\n",
      "Binomial Distriution probabilty is : 0.3125\n"
     ]
    }
   ],
   "source": [
    "l=int(input(\"enter the number of toses: \"))\n",
    "m=int(input(\"Enter the number of desired outcome: \"))\n",
    "\n",
    "print('Binomial Distriution probabilty is :', p_xequals_k(l,m))"
   ]
  },
  {
   "cell_type": "code",
   "execution_count": null,
   "metadata": {},
   "outputs": [],
   "source": [
    "\n"
   ]
  },
  {
   "cell_type": "code",
   "execution_count": null,
   "metadata": {},
   "outputs": [],
   "source": []
  }
 ],
 "metadata": {
  "kernelspec": {
   "display_name": "Python 3",
   "language": "python",
   "name": "python3"
  },
  "language_info": {
   "codemirror_mode": {
    "name": "ipython",
    "version": 3
   },
   "file_extension": ".py",
   "mimetype": "text/x-python",
   "name": "python",
   "nbconvert_exporter": "python",
   "pygments_lexer": "ipython3",
   "version": "3.7.6"
  }
 },
 "nbformat": 4,
 "nbformat_minor": 4
}
