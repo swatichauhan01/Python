{
 "cells": [
  {
   "cell_type": "markdown",
   "metadata": {},
   "source": [
    "# Binary Search Tree with all operations ( Preorder Traversal , Postorder Traversal, Inorder Traversal, BFS)"
   ]
  },
  {
   "cell_type": "code",
   "execution_count": 5,
   "metadata": {},
   "outputs": [],
   "source": [
    "import numpy as np"
   ]
  },
  {
   "cell_type": "code",
   "execution_count": null,
   "metadata": {},
   "outputs": [],
   "source": [
    "l = [50, 40, 25, 45, 60, 55, 70]"
   ]
  },
  {
   "cell_type": "markdown",
   "metadata": {},
   "source": [
    "# BST Creation"
   ]
  },
  {
   "cell_type": "code",
   "execution_count": 6,
   "metadata": {},
   "outputs": [],
   "source": [
    "class tree_node:\n",
    "    \n",
    "    parent_node_address = None\n",
    "    \n",
    "    a_number = None\n",
    "    \n",
    "    left_child_address = None\n",
    "    \n",
    "    right_child_address = None\n"
   ]
  },
  {
   "cell_type": "code",
   "execution_count": 7,
   "metadata": {},
   "outputs": [],
   "source": [
    "root_node = None"
   ]
  },
  {
   "cell_type": "code",
   "execution_count": 8,
   "metadata": {},
   "outputs": [],
   "source": [
    "def construct_bst(root_node, number):\n",
    "    \n",
    "    if root_node == None:\n",
    "        \n",
    "        new_node = tree_node()\n",
    "        \n",
    "        new_node.a_number = number\n",
    "        \n",
    "        return new_node\n",
    "    \n",
    "    elif number <= root_node.a_number :\n",
    "        \n",
    "        root_node.left_child_address = construct_bst(root_node.left_child_address, number)\n",
    "        \n",
    "        root_node.left_child_address.parent_node_address = root_node\n",
    "        \n",
    "        return root_node\n",
    "    else:\n",
    "        \n",
    "        root_node.right_child_address = construct_bst(root_node.right_child_address, number)\n",
    "        \n",
    "        root_node.right_child_address.parent_node_address = root_node\n",
    "        \n",
    "        return root_node\n",
    "    \n",
    "    return\n",
    "        "
   ]
  },
  {
   "cell_type": "markdown",
   "metadata": {},
   "source": [
    "# Height of BST"
   ]
  },
  {
   "cell_type": "code",
   "execution_count": 36,
   "metadata": {},
   "outputs": [],
   "source": [
    "def height_of_bst(root_node):\n",
    "    \n",
    "    if root_node == None :\n",
    "        \n",
    "        return -1\n",
    "    else:\n",
    "        \n",
    "        left_height = height_of_bst(root_node.left_child_address)\n",
    "        \n",
    "        right_height = height_of_bst(root_node.right_child_address)\n",
    "        \n",
    "        return 1 + max(left_height,right_height) "
   ]
  },
  {
   "cell_type": "markdown",
   "metadata": {},
   "source": [
    "# Breadth-first search"
   ]
  },
  {
   "cell_type": "code",
   "execution_count": 37,
   "metadata": {},
   "outputs": [],
   "source": [
    "def levels_of_bst(root_node):\n",
    "    \n",
    "    h = height_of_bst(root_node)\n",
    "    \n",
    "    for i in range(1,h+1):\n",
    "        \n",
    "        bfs_of_bst(root_node,i)\n",
    "        \n",
    "\n",
    "        \n",
    "def bfs_of_bst(root_node,levels):\n",
    "    \n",
    "    if root_node == None :\n",
    "        \n",
    "        return\n",
    "    \n",
    "    if levels == 1:\n",
    "        \n",
    "        print(root_node.a_number)\n",
    "        \n",
    "    elif levels > 1:\n",
    "        \n",
    "        bfs_of_bst(root_node.left_child_address,levels-1)\n",
    "        \n",
    "        bfs_of_bst(root_node.right_child_address,levels-1)\n",
    "        \n",
    "        \n",
    "        \n",
    "    "
   ]
  },
  {
   "cell_type": "code",
   "execution_count": 33,
   "metadata": {},
   "outputs": [],
   "source": [
    "for num in l:\n",
    "    \n",
    "    root_node = construct_bst(root_node, num)"
   ]
  },
  {
   "cell_type": "markdown",
   "metadata": {},
   "source": [
    "# Checking the values of nodes and their addresses "
   ]
  },
  {
   "cell_type": "code",
   "execution_count": 34,
   "metadata": {},
   "outputs": [
    {
     "data": {
      "text/plain": [
       "<__main__.tree_node at 0x29354eafbc8>"
      ]
     },
     "execution_count": 34,
     "metadata": {},
     "output_type": "execute_result"
    }
   ],
   "source": [
    "root_node\n"
   ]
  },
  {
   "cell_type": "code",
   "execution_count": 13,
   "metadata": {},
   "outputs": [
    {
     "data": {
      "text/plain": [
       "50"
      ]
     },
     "execution_count": 13,
     "metadata": {},
     "output_type": "execute_result"
    }
   ],
   "source": [
    "root_node.a_number"
   ]
  },
  {
   "cell_type": "code",
   "execution_count": 14,
   "metadata": {},
   "outputs": [
    {
     "name": "stdout",
     "output_type": "stream",
     "text": [
      "<__main__.tree_node object at 0x0000029354EAF6C8>\n"
     ]
    }
   ],
   "source": [
    "print(root_node.left_child_address)"
   ]
  },
  {
   "cell_type": "code",
   "execution_count": 15,
   "metadata": {},
   "outputs": [
    {
     "name": "stdout",
     "output_type": "stream",
     "text": [
      "60\n"
     ]
    }
   ],
   "source": [
    "print(root_node.right_child_address.a_number)"
   ]
  },
  {
   "cell_type": "code",
   "execution_count": 16,
   "metadata": {},
   "outputs": [
    {
     "name": "stdout",
     "output_type": "stream",
     "text": [
      "<__main__.tree_node object at 0x0000029355EB7F48>\n"
     ]
    }
   ],
   "source": [
    "print(root_node.right_child_address.left_child_address)"
   ]
  },
  {
   "cell_type": "code",
   "execution_count": 17,
   "metadata": {},
   "outputs": [
    {
     "name": "stdout",
     "output_type": "stream",
     "text": [
      "<__main__.tree_node object at 0x0000029355EB79C8>\n"
     ]
    }
   ],
   "source": [
    "print(root_node.right_child_address.right_child_address)"
   ]
  },
  {
   "cell_type": "code",
   "execution_count": 18,
   "metadata": {},
   "outputs": [
    {
     "name": "stdout",
     "output_type": "stream",
     "text": [
      "70\n"
     ]
    }
   ],
   "source": [
    "print(root_node.right_child_address.right_child_address.a_number)"
   ]
  },
  {
   "cell_type": "code",
   "execution_count": 19,
   "metadata": {},
   "outputs": [
    {
     "name": "stdout",
     "output_type": "stream",
     "text": [
      "None\n"
     ]
    }
   ],
   "source": [
    "print(root_node.right_child_address.right_child_address.right_child_address)"
   ]
  },
  {
   "cell_type": "code",
   "execution_count": 20,
   "metadata": {},
   "outputs": [
    {
     "name": "stdout",
     "output_type": "stream",
     "text": [
      "None\n"
     ]
    }
   ],
   "source": [
    "print(root_node.right_child_address.right_child_address.left_child_address)"
   ]
  },
  {
   "cell_type": "markdown",
   "metadata": {},
   "source": [
    "# Traversing of Binary Search Tree - Preorder , Inorder , Postorder"
   ]
  },
  {
   "cell_type": "code",
   "execution_count": 23,
   "metadata": {},
   "outputs": [],
   "source": [
    "def pre_order_traversal(root_node):\n",
    "    \n",
    "    if root_node == None:\n",
    "        \n",
    "        return \n",
    "    \n",
    "    print(root_node.a_number)\n",
    "    \n",
    "    pre_order_traversal(root_node.left_child_address)\n",
    "    \n",
    "    pre_order_traversal(root_node.right_child_address)\n",
    "    \n",
    "    "
   ]
  },
  {
   "cell_type": "code",
   "execution_count": 24,
   "metadata": {},
   "outputs": [
    {
     "name": "stdout",
     "output_type": "stream",
     "text": [
      "50\n",
      "40\n",
      "25\n",
      "45\n",
      "60\n",
      "55\n",
      "70\n"
     ]
    }
   ],
   "source": [
    "pre_order_traversal(root_node)"
   ]
  },
  {
   "cell_type": "code",
   "execution_count": 25,
   "metadata": {},
   "outputs": [],
   "source": [
    "def post_order_traversal(root_node):\n",
    "    \n",
    "    if root_node == None:\n",
    "        \n",
    "        return \n",
    "    \n",
    "  \n",
    "    pre_order_traversal(root_node.left_child_address)\n",
    "    \n",
    "    pre_order_traversal(root_node.right_child_address)\n",
    "    \n",
    "    print(root_node.a_number)\n",
    "    \n",
    "    "
   ]
  },
  {
   "cell_type": "code",
   "execution_count": 26,
   "metadata": {},
   "outputs": [
    {
     "name": "stdout",
     "output_type": "stream",
     "text": [
      "40\n",
      "25\n",
      "45\n",
      "60\n",
      "55\n",
      "70\n",
      "50\n"
     ]
    }
   ],
   "source": [
    "post_order_traversal(root_node)"
   ]
  },
  {
   "cell_type": "code",
   "execution_count": 27,
   "metadata": {},
   "outputs": [],
   "source": [
    "def in_order_traversal(root_node):\n",
    "    \n",
    "    if root_node == None:\n",
    "        \n",
    "        return \n",
    "    \n",
    "  \n",
    "    pre_order_traversal(root_node.left_child_address)\n",
    "    \n",
    "    print(root_node.a_number)\n",
    "    \n",
    "    pre_order_traversal(root_node.right_child_address)\n",
    "    \n",
    "    "
   ]
  },
  {
   "cell_type": "code",
   "execution_count": 28,
   "metadata": {},
   "outputs": [
    {
     "name": "stdout",
     "output_type": "stream",
     "text": [
      "40\n",
      "25\n",
      "45\n",
      "50\n",
      "60\n",
      "55\n",
      "70\n"
     ]
    }
   ],
   "source": [
    "in_order_traversal(root_node)"
   ]
  },
  {
   "cell_type": "code",
   "execution_count": 38,
   "metadata": {},
   "outputs": [
    {
     "name": "stdout",
     "output_type": "stream",
     "text": [
      "50\n",
      "40\n",
      "60\n",
      "25\n",
      "45\n",
      "55\n",
      "70\n"
     ]
    }
   ],
   "source": [
    "levels_of_bst(root_node)\n",
    "      "
   ]
  },
  {
   "cell_type": "code",
   "execution_count": null,
   "metadata": {},
   "outputs": [],
   "source": []
  }
 ],
 "metadata": {
  "kernelspec": {
   "display_name": "Python 3",
   "language": "python",
   "name": "python3"
  },
  "language_info": {
   "codemirror_mode": {
    "name": "ipython",
    "version": 3
   },
   "file_extension": ".py",
   "mimetype": "text/x-python",
   "name": "python",
   "nbconvert_exporter": "python",
   "pygments_lexer": "ipython3",
   "version": "3.7.6"
  }
 },
 "nbformat": 4,
 "nbformat_minor": 4
}
