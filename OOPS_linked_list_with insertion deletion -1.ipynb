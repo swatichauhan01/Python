{
 "cells": [
  {
   "cell_type": "code",
   "execution_count": 2,
   "metadata": {},
   "outputs": [],
   "source": [
    "class train_coach:\n",
    "    \n",
    "    a_number = None\n",
    "    \n",
    "    hook = None"
   ]
  },
  {
   "cell_type": "markdown",
   "metadata": {},
   "source": [
    "# created a node of liked list with the help of class tarin coach where value represented by a_number and address of next node is represented by hook"
   ]
  },
  {
   "cell_type": "code",
   "execution_count": 3,
   "metadata": {},
   "outputs": [],
   "source": [
    "l = [25,36,92,48,53,77]"
   ]
  },
  {
   "cell_type": "markdown",
   "metadata": {},
   "source": [
    "# Function to connect the each node of linked list (25,36,92,48,53,77)"
   ]
  },
  {
   "cell_type": "code",
   "execution_count": 4,
   "metadata": {},
   "outputs": [],
   "source": [
    "def connect_coaches(class_instance,engine,last_coach):\n",
    "    \n",
    "    global first_coach\n",
    "    \n",
    "    if engine == last_coach:\n",
    "        \n",
    "        last_coach = class_instance\n",
    "        \n",
    "        first_coach = last_coach\n",
    "    \n",
    "    else:\n",
    "        \n",
    "        last_coach.hook = class_instance\n",
    "        \n",
    "        last_coach = class_instance\n",
    "        \n",
    "    return last_coach"
   ]
  },
  {
   "cell_type": "markdown",
   "metadata": {},
   "source": [
    "# Function to print the linked list element vise"
   ]
  },
  {
   "cell_type": "code",
   "execution_count": 5,
   "metadata": {},
   "outputs": [],
   "source": [
    "def print_linked_list(engine_address):\n",
    "    \n",
    "    if engine_address == None:\n",
    "        \n",
    "                \n",
    "        return\n",
    "    \n",
    "    else:\n",
    "        \n",
    "        print(engine_address.a_number)\n",
    "        \n",
    "        print_linked_list(engine_address.hook)"
   ]
  },
  {
   "cell_type": "markdown",
   "metadata": {},
   "source": [
    "# Operations on Linked list :\n",
    "\n",
    "i) Insertion at perticular location\n",
    "\n",
    "ii) Deletion from a perticular location \n",
    "\n",
    "iii)  Insertion at the last location of linked list \n",
    "\n",
    "iv)   Insertion at the first location of linked list \n",
    "\n",
    "\n",
    "# Insertion (i)"
   ]
  },
  {
   "cell_type": "code",
   "execution_count": 6,
   "metadata": {},
   "outputs": [],
   "source": [
    "def insert(loc,engine_address,value):\n",
    "    \n",
    "    if loc == 1:\n",
    "        \n",
    "        new_coach = train_coach()\n",
    "        \n",
    "        new_coach.a_number = value\n",
    "        \n",
    "        temp_address = engine_address.hook\n",
    "        \n",
    "        engine_address.hook = new_coach\n",
    "        \n",
    "        new_coach.hook = temp_address\n",
    "        \n",
    "        return \n",
    "    \n",
    "    loc = loc - 1\n",
    "    \n",
    "    insert(loc,engine_address.hook,value)"
   ]
  },
  {
   "cell_type": "markdown",
   "metadata": {},
   "source": [
    "# Deletion (ii)"
   ]
  },
  {
   "cell_type": "code",
   "execution_count": 221,
   "metadata": {},
   "outputs": [],
   "source": [
    "def delete(loc,engine_address):\n",
    "    \n",
    "    if loc == 1:\n",
    "        \n",
    "        #new_coach = train_coach()\n",
    "        \n",
    "        #new_coach.a_number = value\n",
    "        \n",
    "        temp_address = engine_address.hook.hook\n",
    "        \n",
    "        engine_address.hook = temp_address\n",
    "        \n",
    "        #new_coach.hook = temp_address\n",
    "        \n",
    "        return \n",
    "    \n",
    "    loc = loc - 1\n",
    "    \n",
    "    delete(loc,engine_address.hook)"
   ]
  },
  {
   "cell_type": "markdown",
   "metadata": {},
   "source": [
    "# Insertion at last location (iii)"
   ]
  },
  {
   "cell_type": "code",
   "execution_count": 277,
   "metadata": {},
   "outputs": [],
   "source": [
    "def insert_last(loc,engine_address,value):\n",
    "    \n",
    "    if (loc == 1) & (engine_address.hook == None):\n",
    "        \n",
    "        new_coach = train_coach()\n",
    "        \n",
    "        new_coach.a_number = value\n",
    "        \n",
    "       # temp_address = engine_address.hook\n",
    "        \n",
    "        engine_address.hook = new_coach\n",
    "        \n",
    "        new_coach.hook = None\n",
    "        \n",
    "        return \n",
    "    \n",
    "    loc = loc - 1\n",
    "    \n",
    "    insert_last(loc,engine_address.hook,value)"
   ]
  },
  {
   "cell_type": "code",
   "execution_count": 303,
   "metadata": {},
   "outputs": [],
   "source": [
    "def insert_last_to_last(loc,engine_address,value):\n",
    "    \n",
    "    if (loc == 0) & (engine_address.hook == None):\n",
    "              \n",
    "        return \"OVERFLOW\"\n",
    "    \n",
    "    loc = loc - 1\n",
    "    \n",
    "    insert_last_to_last(loc,engine_address.hook,value)"
   ]
  },
  {
   "cell_type": "markdown",
   "metadata": {},
   "source": [
    "# Insertion at first location (iv)"
   ]
  },
  {
   "cell_type": "code",
   "execution_count": 291,
   "metadata": {},
   "outputs": [],
   "source": [
    "def insert_first(loc,engine_address,value):\n",
    "    \n",
    "    if loc < 0:\n",
    "        print(\"underflow\")\n",
    "    elif loc == 0:\n",
    "        new_coach = train_coach()\n",
    "        \n",
    "        new_coach.a_number = value\n",
    "        \n",
    "        temp_address = engine_address\n",
    "        \n",
    "           \n",
    "        new_coach.hook = temp_address\n",
    "       \n",
    "        engine_address = new_coach\n",
    "        \n",
    "        print(engine_address)\n",
    "        \n",
    "        print_linked_list(engine_address)\n",
    "        \n",
    "\n",
    "    #loc = loc - 1\n",
    "    \n",
    "    #insert(loc,engine_address.hook,value)\n",
    "        \n",
    "            "
   ]
  },
  {
   "cell_type": "markdown",
   "metadata": {},
   "source": [
    "# Function calling to create a linked list"
   ]
  },
  {
   "cell_type": "code",
   "execution_count": 7,
   "metadata": {},
   "outputs": [],
   "source": [
    "engine = None\n",
    "\n",
    "last_coach = None\n",
    "\n",
    "for number in l:\n",
    "    \n",
    "    class_instance = train_coach()\n",
    "    \n",
    "    class_instance.a_number = number\n",
    "    \n",
    "    last_coach = connect_coaches(class_instance,engine,last_coach)"
   ]
  },
  {
   "cell_type": "markdown",
   "metadata": {},
   "source": [
    "# Results :\n",
    "# Underflow condition "
   ]
  },
  {
   "cell_type": "code",
   "execution_count": 293,
   "metadata": {},
   "outputs": [
    {
     "name": "stdout",
     "output_type": "stream",
     "text": [
      "underflow\n"
     ]
    }
   ],
   "source": [
    "insert_first(-1,first_coach,100)"
   ]
  },
  {
   "cell_type": "markdown",
   "metadata": {},
   "source": [
    "# Insertion operation "
   ]
  },
  {
   "cell_type": "code",
   "execution_count": 9,
   "metadata": {},
   "outputs": [],
   "source": [
    "insert(4,first_coach,2020)"
   ]
  },
  {
   "cell_type": "code",
   "execution_count": 10,
   "metadata": {},
   "outputs": [
    {
     "name": "stdout",
     "output_type": "stream",
     "text": [
      "25\n",
      "36\n",
      "92\n",
      "48\n",
      "2020\n",
      "53\n",
      "77\n"
     ]
    }
   ],
   "source": [
    "print_linked_list(first_coach)"
   ]
  },
  {
   "cell_type": "markdown",
   "metadata": {},
   "source": [
    "# Insertion at first location"
   ]
  },
  {
   "cell_type": "code",
   "execution_count": 248,
   "metadata": {},
   "outputs": [
    {
     "name": "stdout",
     "output_type": "stream",
     "text": [
      "<__main__.train_coach object at 0x000001C123C506C8>\n",
      "100\n",
      "25\n",
      "36\n",
      "92\n",
      "48\n",
      "53\n",
      "77\n"
     ]
    }
   ],
   "source": [
    "insert_first(0,first_coach,100)\n"
   ]
  },
  {
   "cell_type": "markdown",
   "metadata": {},
   "source": [
    "# Insertion at last location"
   ]
  },
  {
   "cell_type": "code",
   "execution_count": 280,
   "metadata": {},
   "outputs": [],
   "source": [
    "insert_last(6,first_coach,10)"
   ]
  },
  {
   "cell_type": "code",
   "execution_count": 281,
   "metadata": {},
   "outputs": [
    {
     "name": "stdout",
     "output_type": "stream",
     "text": [
      "25\n",
      "36\n",
      "92\n",
      "48\n",
      "53\n",
      "77\n",
      "10\n"
     ]
    }
   ],
   "source": [
    "print_linked_list(first_coach)"
   ]
  },
  {
   "cell_type": "markdown",
   "metadata": {},
   "source": [
    "# Deletion operation "
   ]
  },
  {
   "cell_type": "code",
   "execution_count": 251,
   "metadata": {},
   "outputs": [],
   "source": [
    "delete(3,first_coach)"
   ]
  },
  {
   "cell_type": "code",
   "execution_count": 252,
   "metadata": {},
   "outputs": [
    {
     "name": "stdout",
     "output_type": "stream",
     "text": [
      "25\n",
      "36\n",
      "92\n",
      "53\n",
      "77\n"
     ]
    }
   ],
   "source": [
    "print_linked_list(first_coach)"
   ]
  },
  {
   "cell_type": "code",
   "execution_count": null,
   "metadata": {},
   "outputs": [],
   "source": []
  },
  {
   "cell_type": "code",
   "execution_count": null,
   "metadata": {},
   "outputs": [],
   "source": []
  }
 ],
 "metadata": {
  "kernelspec": {
   "display_name": "Python 3",
   "language": "python",
   "name": "python3"
  },
  "language_info": {
   "codemirror_mode": {
    "name": "ipython",
    "version": 3
   },
   "file_extension": ".py",
   "mimetype": "text/x-python",
   "name": "python",
   "nbconvert_exporter": "python",
   "pygments_lexer": "ipython3",
   "version": "3.7.6"
  }
 },
 "nbformat": 4,
 "nbformat_minor": 2
}
